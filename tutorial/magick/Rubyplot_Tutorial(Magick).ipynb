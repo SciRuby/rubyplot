{
 "cells": [
  {
   "cell_type": "markdown",
   "metadata": {},
   "source": [
    "# Rubyplot Tutorial\n",
    "\n",
    "This iruby notebook contains a tutorial and template code for Rubyplot for Magick backend.  \n",
    "P.S. - Tutorial for GR coming soon!  "
   ]
  },
  {
   "cell_type": "markdown",
   "metadata": {},
   "source": [
    "# Table of Contents\n",
    "1. [Step by Step tutorial](#Step-by-Step-tutorial) \n",
    "2. [Examples](#Examples)"
   ]
  },
  {
   "cell_type": "markdown",
   "metadata": {},
   "source": [
    "## Step by Step tutorial\n",
    "\n",
    "Any graph in Rubyplot can be created in just 4 easy steps -  \n",
    "1. [Importing Rubyplot and set up important properties for Rubyplot i.e. backend, inline show, etc.](#Step-1---Setting-up-Rubyplot)  \n",
    "2. [Create a Figure(i.e. Canvas) on which the graphs will be plotted](#Step-2---Creating-the-Figure)  \n",
    "3. [Choose the types of graphs and set their properties like data, title, colour, etc.](#Step-3---Declaring-the-plots)  \n",
    "4. [Display the graph or save the Figure ](#Step-4---Save-or-display-the-Figure)  "
   ]
  },
  {
   "cell_type": "markdown",
   "metadata": {},
   "source": [
    "### Step 1 - Setting up Rubyplot"
   ]
  },
  {
   "cell_type": "code",
   "execution_count": 1,
   "metadata": {},
   "outputs": [
    {
     "data": {
      "text/plain": [
       "true"
      ]
     },
     "execution_count": 1,
     "metadata": {},
     "output_type": "execute_result"
    }
   ],
   "source": [
    "require 'rubyplot' # Importing Rubyplot\n",
    "# Set the backend environment variable to desired backend by the command below in the terminal\n",
    "# export RUBYPLOT_BACKEND=\"GR\"\n",
    "# export RUBYPLOT_BACKEND=\"GMAGICK\"\n",
    "Rubyplot.set_backend :magick # Choose the backend from magick or gr\n",
    "\n",
    "# To show the figure in iruby notebook, the function below is called\n",
    "# Otherwise the figure will be shown in a pop-up window\n",
    "Rubyplot.inline # showing the figure in iruby notebook\n",
    "# To stop showing the figure in iruby notebook and instead show in a pop-up window, uncomment and run the next line\n",
    "# Rubyplot.stop_inline"
   ]
  },
  {
   "cell_type": "markdown",
   "metadata": {},
   "source": [
    "### Step 2 - Creating the Figure"
   ]
  },
  {
   "cell_type": "code",
   "execution_count": 2,
   "metadata": {},
   "outputs": [
    {
     "data": {
      "text/plain": [
       "[[nil]]"
      ]
     },
     "execution_count": 2,
     "metadata": {},
     "output_type": "execute_result"
    }
   ],
   "source": [
    "# Declare a new Figure object and specify the height, width and the unit of measurement for the Figure from cm, inch or pixels\n",
    "figure = Rubyplot::Figure.new(height: 10, width: 10, figsize_unit: :cm) # Declaring a new figure\n",
    "\n",
    "# Subplots\n",
    "figure.add_subplots! 1,1 # Declaring subplots by specifying the number of rows and columns of subplots in the Figure\n",
    "\n",
    "# For example, if we want to create a figure with 6 subplots having 3 rows and 2 coulmns, the code is\n",
    "# figure.add_subplots! 3,2\n",
    "# The oreintation of the Figure will be - \n",
    "# |------------|------------|\n",
    "# |            |            |\n",
    "# |   (2,0)    |    (2,1)   |\n",
    "# |            |            |\n",
    "# |------------|------------|\n",
    "# |            |            |\n",
    "# |   (1,0)    |    (1,1)   |\n",
    "# |            |            |\n",
    "# |------------|------------|\n",
    "# |            |            |\n",
    "# |   (0,0)    |    (0,1)   |\n",
    "# |            |            |\n",
    "# |------------|------------|"
   ]
  },
  {
   "cell_type": "markdown",
   "metadata": {},
   "source": [
    "### Step 3 - Declaring the plots\n",
    "\n",
    "To declare plots - \n",
    "1. Choose the position of the subplot by specifying the position as (row,column)\n",
    "P.S. - The row and column numbers start from 0\n",
    "2. Choose the type of plot\n",
    "3. Set the properties of the plot i.e. title, colour, data, etc."
   ]
  },
  {
   "cell_type": "code",
   "execution_count": 3,
   "metadata": {},
   "outputs": [
    {
     "data": {
      "text/plain": [
       "true"
      ]
     },
     "execution_count": 3,
     "metadata": {},
     "output_type": "execute_result"
    }
   ],
   "source": [
    "axes00 = figure.add_subplot! 0,0 # Choose the position of the subplot by specifying the row number and column number\n",
    "\n",
    "# Choose the plot type, here scatter plot is chosen\n",
    "axes00.scatter! do |p|\n",
    "  # Set the properties of the plot\n",
    "  p.data [1, 2, 3, 4, 5],[12, 55, 4, 10, 24] # Data as x_values, y_values\n",
    "  p.marker_type = :diamond # Type of marker\n",
    "  p.marker_fill_color = :lemon # Colour to be filled inside the marker\n",
    "  p.marker_size = 2 # Size of the marker, unit is 15*pixels\n",
    "  p.marker_border_color = :black # Colour of the border of the marker\n",
    "  p.label = \"Diamonds\"\n",
    "end\n",
    "\n",
    "# Set the properties of the subplot\n",
    "axes00.title = \"A scatter plot\" # Title of the plot\n",
    "axes00.x_title = \"X-axis\" # Title of the X axis\n",
    "axes00.title = \"Y-axis\" # Title of the Y-axis\n",
    "axes00.square_axes = true # Setting square axes\n",
    "\n",
    "# If there are multiple subplots, repeat this step for each subplot"
   ]
  },
  {
   "cell_type": "markdown",
   "metadata": {},
   "source": [
    "### Step 4 - Save or display the Figure"
   ]
  },
  {
   "cell_type": "markdown",
   "metadata": {},
   "source": [
    "#### Display"
   ]
  },
  {
   "cell_type": "code",
   "execution_count": 4,
   "metadata": {},
   "outputs": [
    {
     "data": {
      "image/png": "[encoded data removed]",
      "text/plain": [
       " PNG 397x397 PseudoClass 174c 16-bit 5kb"
      ]
     },
     "execution_count": 4,
     "metadata": {},
     "output_type": "execute_result"
    }
   ],
   "source": [
    "# Displaying the Figure by calling the show function\n",
    "figure.show # Since inline was already called, the figure is displayed in the iruby notebook"
   ]
  },
  {
   "cell_type": "code",
   "execution_count": null,
   "metadata": {},
   "outputs": [],
   "source": [
    "# Displaying in a pop-up window\n",
    "Rubyplot.stop_inline # Stopping inline display\n",
    "figure.show # Calling show function for displaying the Figure\n",
    "\n",
    "Rubyplot.inline # Reverting back to inline for convenience in the tutorial"
   ]
  },
  {
   "cell_type": "markdown",
   "metadata": {},
   "source": [
    "#### Saving in a file"
   ]
  },
  {
   "cell_type": "code",
   "execution_count": null,
   "metadata": {},
   "outputs": [],
   "source": [
    "# Calling the write function to save the Figure\n",
    "figure.write('./1.png') # Input is a relative or absolute path with image format specified"
   ]
  },
  {
   "cell_type": "markdown",
   "metadata": {},
   "source": [
    "## Examples\n",
    "[1. ](#1)  \n",
    "[2.](#2)  \n",
    "[3.](#3)  \n",
    "[4.](#4)  \n",
    "[5.](#5)  "
   ]
  },
  {
   "cell_type": "markdown",
   "metadata": {},
   "source": [
    "### 1"
   ]
  },
  {
   "cell_type": "code",
   "execution_count": null,
   "metadata": {},
   "outputs": [],
   "source": []
  },
  {
   "cell_type": "markdown",
   "metadata": {},
   "source": [
    "### 2"
   ]
  },
  {
   "cell_type": "code",
   "execution_count": null,
   "metadata": {},
   "outputs": [],
   "source": []
  },
  {
   "cell_type": "markdown",
   "metadata": {},
   "source": [
    "### 3"
   ]
  },
  {
   "cell_type": "code",
   "execution_count": null,
   "metadata": {},
   "outputs": [],
   "source": []
  },
  {
   "cell_type": "markdown",
   "metadata": {},
   "source": [
    "### 4"
   ]
  },
  {
   "cell_type": "code",
   "execution_count": null,
   "metadata": {},
   "outputs": [],
   "source": []
  },
  {
   "cell_type": "markdown",
   "metadata": {},
   "source": [
    "### 5"
   ]
  },
  {
   "cell_type": "code",
   "execution_count": null,
   "metadata": {},
   "outputs": [],
   "source": []
  }
 ],
 "metadata": {
  "kernelspec": {
   "display_name": "Ruby 2.6.3",
   "language": "ruby",
   "name": "ruby"
  },
  "language_info": {
   "file_extension": ".rb",
   "mimetype": "application/x-ruby",
   "name": "ruby",
   "version": "2.6.3"
  }
 },
 "nbformat": 4,
 "nbformat_minor": 2
}
